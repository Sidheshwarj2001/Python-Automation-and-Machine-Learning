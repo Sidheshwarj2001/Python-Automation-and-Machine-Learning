{
 "cells": [
  {
   "cell_type": "code",
   "execution_count": 1,
   "metadata": {},
   "outputs": [],
   "source": [
    "## Banking Application (ATM Machine)\n"
   ]
  },
  {
   "cell_type": "code",
   "execution_count": null,
   "metadata": {},
   "outputs": [],
   "source": [
    "class Atm(): #creating class \n",
    "#     Contructor :-it is a function inside a class\n",
    "    def __init__(self):\n",
    "        self.pin = \"\"\n",
    "        self.balance = 10000\n",
    "        self.menu()\n",
    "        \n",
    "    def menu(self):\n",
    "        user_input = input(\"\"\"\n",
    "        hi how i help you?\n",
    "        1.press 1 for creating pin\n",
    "        2.press 2 for to change pin\n",
    "        3.press 3 for withdraw\n",
    "        4.press 4 for check balance\n",
    "        5. exist\n",
    "        \"\"\")\n",
    "        \n",
    "        if user_input == \"1\":\n",
    "            #create pin\n",
    "            self.create_pin()\n",
    "        elif user_input == \"2\":\n",
    "            #change pin\n",
    "            self.change_pin()\n",
    "        elif user_input == \"4\":\n",
    "            # withdraw\n",
    "            self.withdraw()\n",
    "        elif user_input == \"3\":\n",
    "            self.check_balance()     \n",
    "        else:\n",
    "            exit()\n",
    "            \n",
    "    def create_pin(self):\n",
    "        setpin = input(\"Enter your new pin \")\n",
    "        conformpin = input(\"Confirm your pin Again \")\n",
    "\n",
    "        if setpin == conformpin:\n",
    "            self.pin = conformpin\n",
    "            print(\"Your ATM pin set successfully\")\n",
    "            self.menu()\n",
    "        else:\n",
    "            print('Enter same pin ERROR : .......')\n",
    "            \n",
    "    def change_pin(self):\n",
    "        setpin = input(\"Enter your first pin \")\n",
    "        \n",
    "        if setpin == self.pin:\n",
    "            newpin = input(\"Enter your new pin\")\n",
    "            print(\"Your new pin set successfully\")\n",
    "            self.pin = newpin\n",
    "            self.menu()\n",
    "        else:\n",
    "            print(\"pin nahi kar de sakta re babba...\")\n",
    "            \n",
    "            \n",
    "    def check_balance(self):\n",
    "        Checkpin = input(\"Enter your pin\")\n",
    "        \n",
    "        if Checkpin == self.pin:\n",
    "            print(\"your Balance is : \"self.balance)\n",
    "            self.menu()\n",
    "        else:\n",
    "            print(\"PIN is incorrect\")\n",
    "            \n",
    "    def withdraw(self):\n",
    "        checkpin = input(\"enter you pin\")\n",
    "        \n",
    "        if Checkpin == self.pin:\n",
    "            amount = input(\"Enter the Amount\")\n",
    "            if amount < self.balance:\n",
    "                print(\"Payment is processing\")\n",
    "                self.balance -=amount\n",
    "                print(\"Withdraw successufully.....\")\n",
    "                \n",
    "            else:\n",
    "                print(\"INSUFFICEIENT BALANCE\")           \n",
    "        else:\n",
    "            print(\"PIN IS INCORRECT\")\n",
    "        self.menu()\n",
    "            "
   ]
  },
  {
   "cell_type": "code",
   "execution_count": null,
   "metadata": {},
   "outputs": [],
   "source": [
    "person1 = Atm() # creating object"
   ]
  },
  {
   "cell_type": "code",
   "execution_count": 8,
   "metadata": {},
   "outputs": [
    {
     "data": {
      "text/plain": [
       "__main__.Atm"
      ]
     },
     "execution_count": 8,
     "metadata": {},
     "output_type": "execute_result"
    }
   ],
   "source": [
    "type(person1)"
   ]
  },
  {
   "cell_type": "code",
   "execution_count": 10,
   "metadata": {},
   "outputs": [],
   "source": [
    "person1.pin=123"
   ]
  },
  {
   "cell_type": "code",
   "execution_count": 11,
   "metadata": {},
   "outputs": [
    {
     "name": "stdout",
     "output_type": "stream",
     "text": [
      "123\n"
     ]
    }
   ],
   "source": []
  },
  {
   "cell_type": "code",
   "execution_count": null,
   "metadata": {},
   "outputs": [],
   "source": []
  }
 ],
 "metadata": {
  "kernelspec": {
   "display_name": "Python 3",
   "language": "python",
   "name": "python3"
  },
  "language_info": {
   "codemirror_mode": {
    "name": "ipython",
    "version": 3
   },
   "file_extension": ".py",
   "mimetype": "text/x-python",
   "name": "python",
   "nbconvert_exporter": "python",
   "pygments_lexer": "ipython3",
   "version": "3.8.5"
  }
 },
 "nbformat": 4,
 "nbformat_minor": 4
}
